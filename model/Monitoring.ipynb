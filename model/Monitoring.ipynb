{
 "cells": [
  {
   "cell_type": "markdown",
   "metadata": {},
   "source": [
    "- Pull in results from dynamo/hot\n",
    "- Pull in predictions from sql, filter for stuff older than 5 hours\n",
    "- apply \"true\" labels based on what is in the dynamo data. One for anything that is in the dynamo/hot table, one for anything that has at least a score of 10k.\n",
    "- plot performance metrics"
   ]
  },
  {
   "cell_type": "markdown",
   "metadata": {
    "toc": true
   },
   "source": [
    "<h1>Table of Contents<span class=\"tocSkip\"></span></h1>\n",
    "<div class=\"toc\"><ul class=\"toc-item\"><li><span><a href=\"#Set-up\" data-toc-modified-id=\"Set-up-1\"><span class=\"toc-item-num\">1&nbsp;&nbsp;</span>Set up</a></span></li><li><span><a href=\"#Pull-in-Dynamo-Hot-Data\" data-toc-modified-id=\"Pull-in-Dynamo-Hot-Data-2\"><span class=\"toc-item-num\">2&nbsp;&nbsp;</span>Pull in Dynamo Hot Data</a></span></li><li><span><a href=\"#Pull-in-SQL-data\" data-toc-modified-id=\"Pull-in-SQL-data-3\"><span class=\"toc-item-num\">3&nbsp;&nbsp;</span>Pull in SQL data</a></span></li><li><span><a href=\"#Join-data-and-create-true-value-labels\" data-toc-modified-id=\"Join-data-and-create-true-value-labels-4\"><span class=\"toc-item-num\">4&nbsp;&nbsp;</span>Join data and create true value labels</a></span></li><li><span><a href=\"#Plot-performance-metrics\" data-toc-modified-id=\"Plot-performance-metrics-5\"><span class=\"toc-item-num\">5&nbsp;&nbsp;</span>Plot performance metrics</a></span></li></ul></div>"
   ]
  },
  {
   "cell_type": "markdown",
   "metadata": {},
   "source": [
    "## Set up"
   ]
  },
  {
   "cell_type": "code",
   "execution_count": 15,
   "metadata": {
    "ExecuteTime": {
     "end_time": "2023-05-12T14:49:15.207248Z",
     "start_time": "2023-05-12T14:49:14.936437Z"
    },
    "code_folding": []
   },
   "outputs": [],
   "source": [
    "import modelUtils as mu\n",
    "from datetime import datetime, timedelta\n",
    "import sys\n",
    "import os\n",
    "#THIS_DIR = os.path.dirname(os.path.abspath(__file__))\n",
    "#sys.path.append(os.path.join(THIS_DIR, '../'))\n",
    "sys.path.append('../')\n",
    "import configUtils as cu\n",
    "import boto3\n",
    "from pyspark.sql import SparkSession\n",
    "import pandas as pd\n",
    "import sqlUtils as su"
   ]
  },
  {
   "cell_type": "code",
   "execution_count": 11,
   "metadata": {
    "ExecuteTime": {
     "end_time": "2023-05-12T14:41:03.401997Z",
     "start_time": "2023-05-12T14:40:54.742300Z"
    }
   },
   "outputs": [],
   "source": [
    "os.environ['TZ'] = 'UTC'\n",
    "\n",
    "\n",
    "cfg_file = cu.findConfig()\n",
    "cfg = cu.parseConfig(cfg_file)\n",
    "\n",
    "\n",
    "spark = (\n",
    "  SparkSession\n",
    "  .builder\n",
    "  .appName('redditData')\n",
    "  .config('spark.driver.extraJavaOptions', '-Duser.timezone=GMT')\n",
    "  .config('spark.executor.extraJavaOptions', '-Duser.timezone=GMT')\n",
    "  .config('spark.sql.session.timeZone', 'UTC')\n",
    "  .config(\"fs.s3a.access.key\", cfg['S3_access']['ACCESSKEY'])\n",
    "  .config(\"fs.s3a.secret.key\", cfg['S3_access']['SECRETKEY'])\n",
    "  .getOrCreate()\n",
    ")\n",
    "\n",
    "dynamodb_resource = boto3.resource('dynamodb', region_name='us-east-2')\n",
    "\n",
    "engine = su.makeEngine(cfg)"
   ]
  },
  {
   "cell_type": "markdown",
   "metadata": {},
   "source": [
    "## Pull in Dynamo Hot Data"
   ]
  },
  {
   "cell_type": "code",
   "execution_count": 13,
   "metadata": {
    "ExecuteTime": {
     "end_time": "2023-05-12T14:44:35.668058Z",
     "start_time": "2023-05-12T14:44:26.285513Z"
    }
   },
   "outputs": [
    {
     "name": "stdout",
     "output_type": "stream",
     "text": [
      "Number of posts found: 120\n"
     ]
    }
   ],
   "source": [
    "now = datetime.now()\n",
    "twoDaysAgo = now - timedelta(days=2)\n",
    "twoDaysAgoDate = twoDaysAgo.date()\n",
    "datesToQuery = mu.daysUntilNow(twoDaysAgoDate)\n",
    "\n",
    "hotTable = dynamodb_resource.Table('hot')\n",
    "\n",
    "postIdQueryResult = mu.queryByRangeOfDates(hotTable, datesToQuery)\n",
    "hotPosts = mu.queryByRangeOfDates(hotTable, datesToQuery)\n",
    "uniqueHotPostIds = set([p['postId'] for p in hotPosts])\n",
    "print(\"Number of posts found:\", len(uniqueHotPostIds))"
   ]
  },
  {
   "cell_type": "code",
   "execution_count": 29,
   "metadata": {
    "ExecuteTime": {
     "end_time": "2023-05-12T15:20:20.806569Z",
     "start_time": "2023-05-12T15:19:20.546936Z"
    }
   },
   "outputs": [],
   "source": [
    "# we mainly need this for making a target around score\n",
    "hotPostsData = mu.getPostIdPdDataFrame(\n",
    "  table=hotTable\n",
    "  , postIds=uniqueHotPostIds\n",
    "  , chunkSize=100\n",
    "  , flatten=True\n",
    ")"
   ]
  },
  {
   "cell_type": "code",
   "execution_count": 50,
   "metadata": {
    "ExecuteTime": {
     "end_time": "2023-05-12T17:52:13.385796Z",
     "start_time": "2023-05-12T17:52:13.311135Z"
    }
   },
   "outputs": [
    {
     "data": {
      "text/html": [
       "<div>\n",
       "<style scoped>\n",
       "    .dataframe tbody tr th:only-of-type {\n",
       "        vertical-align: middle;\n",
       "    }\n",
       "\n",
       "    .dataframe tbody tr th {\n",
       "        vertical-align: top;\n",
       "    }\n",
       "\n",
       "    .dataframe thead th {\n",
       "        text-align: right;\n",
       "    }\n",
       "</style>\n",
       "<table border=\"1\" class=\"dataframe\">\n",
       "  <thead>\n",
       "    <tr style=\"text-align: right;\">\n",
       "      <th></th>\n",
       "      <th>postId</th>\n",
       "      <th>hotPostSubreddit</th>\n",
       "      <th>hotPostMaxScore</th>\n",
       "    </tr>\n",
       "  </thead>\n",
       "  <tbody>\n",
       "    <tr>\n",
       "      <th>0</th>\n",
       "      <td>12k6m37</td>\n",
       "      <td>funny</td>\n",
       "      <td>350</td>\n",
       "    </tr>\n",
       "    <tr>\n",
       "      <th>1</th>\n",
       "      <td>12ondqr</td>\n",
       "      <td>aww</td>\n",
       "      <td>1678</td>\n",
       "    </tr>\n",
       "    <tr>\n",
       "      <th>2</th>\n",
       "      <td>132h290</td>\n",
       "      <td>movies</td>\n",
       "      <td>232</td>\n",
       "    </tr>\n",
       "    <tr>\n",
       "      <th>3</th>\n",
       "      <td>134io09</td>\n",
       "      <td>funny</td>\n",
       "      <td>81</td>\n",
       "    </tr>\n",
       "    <tr>\n",
       "      <th>4</th>\n",
       "      <td>13878rl</td>\n",
       "      <td>movies</td>\n",
       "      <td>3667</td>\n",
       "    </tr>\n",
       "  </tbody>\n",
       "</table>\n",
       "</div>"
      ],
      "text/plain": [
       "    postId hotPostSubreddit  hotPostMaxScore\n",
       "0  12k6m37            funny              350\n",
       "1  12ondqr              aww             1678\n",
       "2  132h290           movies              232\n",
       "3  134io09            funny               81\n",
       "4  13878rl           movies             3667"
      ]
     },
     "execution_count": 50,
     "metadata": {},
     "output_type": "execute_result"
    }
   ],
   "source": [
    "hotPostMaxScore = hotPostsData[['postId', 'subreddit', 'score']].groupby(['postId', 'subreddit']).max().reset_index(drop=False).rename(columns={'score':'hotPostMaxScore', 'subreddit':'hotPostSubreddit'})\n",
    "hotPostMaxScore.head()"
   ]
  },
  {
   "cell_type": "markdown",
   "metadata": {},
   "source": [
    "Learned from this that stickied posts are ending up in the hot view, made a patch for that, going forward should get a better selection of posts for subreddits that have stickied posts."
   ]
  },
  {
   "cell_type": "markdown",
   "metadata": {},
   "source": [
    "## Pull in SQL data"
   ]
  },
  {
   "cell_type": "code",
   "execution_count": 73,
   "metadata": {
    "ExecuteTime": {
     "end_time": "2023-05-12T18:01:43.933652Z",
     "start_time": "2023-05-12T18:01:43.099928Z"
    }
   },
   "outputs": [
    {
     "name": "stdout",
     "output_type": "stream",
     "text": [
      "3300\n"
     ]
    },
    {
     "data": {
      "text/html": [
       "<div>\n",
       "<style scoped>\n",
       "    .dataframe tbody tr th:only-of-type {\n",
       "        vertical-align: middle;\n",
       "    }\n",
       "\n",
       "    .dataframe tbody tr th {\n",
       "        vertical-align: top;\n",
       "    }\n",
       "\n",
       "    .dataframe thead th {\n",
       "        text-align: right;\n",
       "    }\n",
       "</style>\n",
       "<table border=\"1\" class=\"dataframe\">\n",
       "  <thead>\n",
       "    <tr style=\"text-align: right;\">\n",
       "      <th></th>\n",
       "      <th>postId</th>\n",
       "      <th>subreddit</th>\n",
       "      <th>title</th>\n",
       "      <th>createdTSUTC</th>\n",
       "      <th>maxScore20m</th>\n",
       "      <th>maxScore21_40m</th>\n",
       "      <th>maxScore41_60m</th>\n",
       "      <th>maxNumComments20m</th>\n",
       "      <th>maxNumComments21_40m</th>\n",
       "      <th>maxNumComments41_60m</th>\n",
       "      <th>...</th>\n",
       "      <th>maxUpvoteRatio21_40m</th>\n",
       "      <th>maxUpvoteRatio41_60m</th>\n",
       "      <th>maxNumGildings20m</th>\n",
       "      <th>maxNumGildings21_40m</th>\n",
       "      <th>maxNumGildings41_60m</th>\n",
       "      <th>maxScoreGrowth21_40m41_60m</th>\n",
       "      <th>maxNumCommentsGrowth21_40m41_60m</th>\n",
       "      <th>predict_proba_1</th>\n",
       "      <th>stepUp</th>\n",
       "      <th>modelName</th>\n",
       "    </tr>\n",
       "  </thead>\n",
       "  <tbody>\n",
       "    <tr>\n",
       "      <th>0</th>\n",
       "      <td>13f2gey</td>\n",
       "      <td>memes</td>\n",
       "      <td>Hashtag badass</td>\n",
       "      <td>2023-05-11 22:35:34</td>\n",
       "      <td>11</td>\n",
       "      <td>11</td>\n",
       "      <td>11</td>\n",
       "      <td>1</td>\n",
       "      <td>1</td>\n",
       "      <td>1</td>\n",
       "      <td>...</td>\n",
       "      <td>0.87</td>\n",
       "      <td>0.87</td>\n",
       "      <td>0</td>\n",
       "      <td>0</td>\n",
       "      <td>0</td>\n",
       "      <td>0.000000</td>\n",
       "      <td>0.0</td>\n",
       "      <td>0.01647</td>\n",
       "      <td>0</td>\n",
       "      <td>models/Reddit_model_20230503-235329_GBM.sav</td>\n",
       "    </tr>\n",
       "    <tr>\n",
       "      <th>1</th>\n",
       "      <td>13eybbo</td>\n",
       "      <td>pics</td>\n",
       "      <td>Once I noticed it. I had to do it lol</td>\n",
       "      <td>2023-05-11 20:03:53</td>\n",
       "      <td>7</td>\n",
       "      <td>7</td>\n",
       "      <td>7</td>\n",
       "      <td>0</td>\n",
       "      <td>0</td>\n",
       "      <td>0</td>\n",
       "      <td>...</td>\n",
       "      <td>0.89</td>\n",
       "      <td>0.77</td>\n",
       "      <td>0</td>\n",
       "      <td>0</td>\n",
       "      <td>0</td>\n",
       "      <td>0.000000</td>\n",
       "      <td>0.0</td>\n",
       "      <td>0.01647</td>\n",
       "      <td>0</td>\n",
       "      <td>models/Reddit_model_20230503-235329_GBM.sav</td>\n",
       "    </tr>\n",
       "    <tr>\n",
       "      <th>2</th>\n",
       "      <td>13ey6tm</td>\n",
       "      <td>aww</td>\n",
       "      <td>Another day, another collection of random stuf...</td>\n",
       "      <td>2023-05-11 19:59:35</td>\n",
       "      <td>4</td>\n",
       "      <td>9</td>\n",
       "      <td>12</td>\n",
       "      <td>0</td>\n",
       "      <td>0</td>\n",
       "      <td>0</td>\n",
       "      <td>...</td>\n",
       "      <td>0.91</td>\n",
       "      <td>0.93</td>\n",
       "      <td>0</td>\n",
       "      <td>0</td>\n",
       "      <td>0</td>\n",
       "      <td>0.333333</td>\n",
       "      <td>0.0</td>\n",
       "      <td>0.01647</td>\n",
       "      <td>0</td>\n",
       "      <td>models/Reddit_model_20230503-235329_GBM.sav</td>\n",
       "    </tr>\n",
       "    <tr>\n",
       "      <th>3</th>\n",
       "      <td>13erc7c</td>\n",
       "      <td>funny</td>\n",
       "      <td>Corn is better than lobster FACT</td>\n",
       "      <td>2023-05-11 15:54:28</td>\n",
       "      <td>2</td>\n",
       "      <td>0</td>\n",
       "      <td>0</td>\n",
       "      <td>1</td>\n",
       "      <td>0</td>\n",
       "      <td>0</td>\n",
       "      <td>...</td>\n",
       "      <td>0.00</td>\n",
       "      <td>0.00</td>\n",
       "      <td>0</td>\n",
       "      <td>0</td>\n",
       "      <td>0</td>\n",
       "      <td>0.000000</td>\n",
       "      <td>0.0</td>\n",
       "      <td>0.01647</td>\n",
       "      <td>0</td>\n",
       "      <td>models/Reddit_model_20230503-235329_GBM.sav</td>\n",
       "    </tr>\n",
       "    <tr>\n",
       "      <th>4</th>\n",
       "      <td>13e2qal</td>\n",
       "      <td>funny</td>\n",
       "      <td>Funny song and music video!</td>\n",
       "      <td>2023-05-10 20:47:07</td>\n",
       "      <td>3</td>\n",
       "      <td>3</td>\n",
       "      <td>1</td>\n",
       "      <td>2</td>\n",
       "      <td>2</td>\n",
       "      <td>2</td>\n",
       "      <td>...</td>\n",
       "      <td>0.80</td>\n",
       "      <td>0.57</td>\n",
       "      <td>0</td>\n",
       "      <td>0</td>\n",
       "      <td>0</td>\n",
       "      <td>-0.666667</td>\n",
       "      <td>0.0</td>\n",
       "      <td>0.01647</td>\n",
       "      <td>0</td>\n",
       "      <td>models/Reddit_model_20230503-235329_GBM.sav</td>\n",
       "    </tr>\n",
       "  </tbody>\n",
       "</table>\n",
       "<p>5 rows × 21 columns</p>\n",
       "</div>"
      ],
      "text/plain": [
       "    postId subreddit                                              title  \\\n",
       "0  13f2gey     memes                                     Hashtag badass   \n",
       "1  13eybbo      pics              Once I noticed it. I had to do it lol   \n",
       "2  13ey6tm       aww  Another day, another collection of random stuf...   \n",
       "3  13erc7c     funny                   Corn is better than lobster FACT   \n",
       "4  13e2qal     funny                        Funny song and music video!   \n",
       "\n",
       "         createdTSUTC  maxScore20m  maxScore21_40m  maxScore41_60m  \\\n",
       "0 2023-05-11 22:35:34           11              11              11   \n",
       "1 2023-05-11 20:03:53            7               7               7   \n",
       "2 2023-05-11 19:59:35            4               9              12   \n",
       "3 2023-05-11 15:54:28            2               0               0   \n",
       "4 2023-05-10 20:47:07            3               3               1   \n",
       "\n",
       "   maxNumComments20m  maxNumComments21_40m  maxNumComments41_60m  ...  \\\n",
       "0                  1                     1                     1  ...   \n",
       "1                  0                     0                     0  ...   \n",
       "2                  0                     0                     0  ...   \n",
       "3                  1                     0                     0  ...   \n",
       "4                  2                     2                     2  ...   \n",
       "\n",
       "   maxUpvoteRatio21_40m  maxUpvoteRatio41_60m  maxNumGildings20m  \\\n",
       "0                  0.87                  0.87                  0   \n",
       "1                  0.89                  0.77                  0   \n",
       "2                  0.91                  0.93                  0   \n",
       "3                  0.00                  0.00                  0   \n",
       "4                  0.80                  0.57                  0   \n",
       "\n",
       "   maxNumGildings21_40m  maxNumGildings41_60m  maxScoreGrowth21_40m41_60m  \\\n",
       "0                     0                     0                    0.000000   \n",
       "1                     0                     0                    0.000000   \n",
       "2                     0                     0                    0.333333   \n",
       "3                     0                     0                    0.000000   \n",
       "4                     0                     0                   -0.666667   \n",
       "\n",
       "   maxNumCommentsGrowth21_40m41_60m  predict_proba_1  stepUp  \\\n",
       "0                               0.0          0.01647       0   \n",
       "1                               0.0          0.01647       0   \n",
       "2                               0.0          0.01647       0   \n",
       "3                               0.0          0.01647       0   \n",
       "4                               0.0          0.01647       0   \n",
       "\n",
       "                                     modelName  \n",
       "0  models/Reddit_model_20230503-235329_GBM.sav  \n",
       "1  models/Reddit_model_20230503-235329_GBM.sav  \n",
       "2  models/Reddit_model_20230503-235329_GBM.sav  \n",
       "3  models/Reddit_model_20230503-235329_GBM.sav  \n",
       "4  models/Reddit_model_20230503-235329_GBM.sav  \n",
       "\n",
       "[5 rows x 21 columns]"
      ]
     },
     "execution_count": 73,
     "metadata": {},
     "output_type": "execute_result"
    }
   ],
   "source": [
    "twoDaysAgoStr = twoDaysAgo.strftime('%Y-%m-%d %H:%M:%S')\n",
    "# this accounts for lags in posts hitting the front page\n",
    "sixHoursAgo = now-timedelta(hours=6)\n",
    "sixHoursAgoStr = sixHoursAgo.strftime('%Y-%m-%d %H:%M:%S')\n",
    "query = f\"\"\"SELECT\n",
    "  *\n",
    "FROM\n",
    "  public.\"scoredData\"\n",
    "WHERE\n",
    "  \"createdTSUTC\" >= '{twoDaysAgoStr}'\n",
    "  AND \"createdTSUTC\" <= '{sixHoursAgoStr}' \n",
    "\"\"\"\n",
    "recentlyScoredData = pd.read_sql(query, engine)\n",
    "print(len(recentlyScoredData))\n",
    "recentlyScoredData.head()"
   ]
  },
  {
   "cell_type": "markdown",
   "metadata": {},
   "source": [
    "## Join data and create true value labels"
   ]
  },
  {
   "cell_type": "code",
   "execution_count": 86,
   "metadata": {
    "ExecuteTime": {
     "end_time": "2023-05-12T18:04:03.569927Z",
     "start_time": "2023-05-12T18:04:03.512377Z"
    }
   },
   "outputs": [],
   "source": [
    "mergedDf = pd.merge(recentlyScoredData, hotPostMaxScore, on=['postId'], how='outer')\n",
    "mergedDf['coalesceSubreddit'] = mergedDf[['subreddit', 'hotPostSubreddit']].bfill(axis=1).iloc[:, 0]\n",
    "mergedDf['hotPost'] = mergedDf['hotPostMaxScore'].apply(lambda x: 0 if pd.isna(x) else 1)\n",
    "mergedDf['hotPost10k'] = mergedDf['hotPostMaxScore'].apply(lambda x: 0 if pd.isna(x) or x<10000 else 1)\n",
    "mergedDf['stepUp'] = mergedDf['stepUp'].fillna(0).apply(int)\n",
    "mergedDf['stepUp&HotPost'] = mergedDf['stepUp']&mergedDf['hotPost']\n",
    "mergedDf['stepUp&HotPost10k'] = mergedDf['stepUp']&mergedDf['hotPost10k']\n"
   ]
  },
  {
   "cell_type": "code",
   "execution_count": 94,
   "metadata": {
    "ExecuteTime": {
     "end_time": "2023-05-12T18:06:33.764722Z",
     "start_time": "2023-05-12T18:06:33.738384Z"
    }
   },
   "outputs": [
    {
     "data": {
      "text/html": [
       "<div>\n",
       "<style scoped>\n",
       "    .dataframe tbody tr th:only-of-type {\n",
       "        vertical-align: middle;\n",
       "    }\n",
       "\n",
       "    .dataframe tbody tr th {\n",
       "        vertical-align: top;\n",
       "    }\n",
       "\n",
       "    .dataframe thead th {\n",
       "        text-align: right;\n",
       "    }\n",
       "</style>\n",
       "<table border=\"1\" class=\"dataframe\">\n",
       "  <thead>\n",
       "    <tr style=\"text-align: right;\">\n",
       "      <th></th>\n",
       "      <th>count</th>\n",
       "    </tr>\n",
       "    <tr>\n",
       "      <th>coalesceSubreddit</th>\n",
       "      <th></th>\n",
       "    </tr>\n",
       "  </thead>\n",
       "  <tbody>\n",
       "    <tr>\n",
       "      <th>aww</th>\n",
       "      <td>608</td>\n",
       "    </tr>\n",
       "    <tr>\n",
       "      <th>funny</th>\n",
       "      <td>218</td>\n",
       "    </tr>\n",
       "    <tr>\n",
       "      <th>gaming</th>\n",
       "      <td>232</td>\n",
       "    </tr>\n",
       "    <tr>\n",
       "      <th>memes</th>\n",
       "      <td>904</td>\n",
       "    </tr>\n",
       "    <tr>\n",
       "      <th>movies</th>\n",
       "      <td>223</td>\n",
       "    </tr>\n",
       "    <tr>\n",
       "      <th>news</th>\n",
       "      <td>112</td>\n",
       "    </tr>\n",
       "    <tr>\n",
       "      <th>pics</th>\n",
       "      <td>583</td>\n",
       "    </tr>\n",
       "    <tr>\n",
       "      <th>todayilearned</th>\n",
       "      <td>129</td>\n",
       "    </tr>\n",
       "    <tr>\n",
       "      <th>worldnews</th>\n",
       "      <td>339</td>\n",
       "    </tr>\n",
       "  </tbody>\n",
       "</table>\n",
       "</div>"
      ],
      "text/plain": [
       "                   count\n",
       "coalesceSubreddit       \n",
       "aww                  608\n",
       "funny                218\n",
       "gaming               232\n",
       "memes                904\n",
       "movies               223\n",
       "news                 112\n",
       "pics                 583\n",
       "todayilearned        129\n",
       "worldnews            339"
      ]
     },
     "execution_count": 94,
     "metadata": {},
     "output_type": "execute_result"
    }
   ],
   "source": [
    "mergedDf[['coalesceSubreddit', 'stepUp']].groupby('coalesceSubreddit').count().rename(columns={'stepUp':'count'})"
   ]
  },
  {
   "cell_type": "code",
   "execution_count": 95,
   "metadata": {
    "ExecuteTime": {
     "end_time": "2023-05-12T18:12:58.785948Z",
     "start_time": "2023-05-12T18:12:58.732997Z"
    }
   },
   "outputs": [
    {
     "data": {
      "text/html": [
       "<div>\n",
       "<style scoped>\n",
       "    .dataframe tbody tr th:only-of-type {\n",
       "        vertical-align: middle;\n",
       "    }\n",
       "\n",
       "    .dataframe tbody tr th {\n",
       "        vertical-align: top;\n",
       "    }\n",
       "\n",
       "    .dataframe thead th {\n",
       "        text-align: right;\n",
       "    }\n",
       "</style>\n",
       "<table border=\"1\" class=\"dataframe\">\n",
       "  <thead>\n",
       "    <tr style=\"text-align: right;\">\n",
       "      <th></th>\n",
       "      <th>stepUp</th>\n",
       "      <th>hotPost</th>\n",
       "      <th>hotPost10k</th>\n",
       "      <th>stepUp&amp;HotPost</th>\n",
       "      <th>stepUp&amp;HotPost10k</th>\n",
       "      <th>recall_hotPost</th>\n",
       "      <th>precision_hotPost</th>\n",
       "      <th>recall_hotPost10k</th>\n",
       "      <th>precision_hotPost10k</th>\n",
       "    </tr>\n",
       "    <tr>\n",
       "      <th>coalesceSubreddit</th>\n",
       "      <th></th>\n",
       "      <th></th>\n",
       "      <th></th>\n",
       "      <th></th>\n",
       "      <th></th>\n",
       "      <th></th>\n",
       "      <th></th>\n",
       "      <th></th>\n",
       "      <th></th>\n",
       "    </tr>\n",
       "  </thead>\n",
       "  <tbody>\n",
       "    <tr>\n",
       "      <th>worldnews</th>\n",
       "      <td>21</td>\n",
       "      <td>14</td>\n",
       "      <td>8</td>\n",
       "      <td>7</td>\n",
       "      <td>5</td>\n",
       "      <td>0.500000</td>\n",
       "      <td>0.333333</td>\n",
       "      <td>0.625000</td>\n",
       "      <td>0.238095</td>\n",
       "    </tr>\n",
       "    <tr>\n",
       "      <th>aww</th>\n",
       "      <td>14</td>\n",
       "      <td>13</td>\n",
       "      <td>8</td>\n",
       "      <td>5</td>\n",
       "      <td>4</td>\n",
       "      <td>0.384615</td>\n",
       "      <td>0.357143</td>\n",
       "      <td>0.500000</td>\n",
       "      <td>0.285714</td>\n",
       "    </tr>\n",
       "    <tr>\n",
       "      <th>pics</th>\n",
       "      <td>6</td>\n",
       "      <td>16</td>\n",
       "      <td>11</td>\n",
       "      <td>5</td>\n",
       "      <td>5</td>\n",
       "      <td>0.312500</td>\n",
       "      <td>0.833333</td>\n",
       "      <td>0.454545</td>\n",
       "      <td>0.833333</td>\n",
       "    </tr>\n",
       "    <tr>\n",
       "      <th>todayilearned</th>\n",
       "      <td>13</td>\n",
       "      <td>14</td>\n",
       "      <td>11</td>\n",
       "      <td>5</td>\n",
       "      <td>5</td>\n",
       "      <td>0.357143</td>\n",
       "      <td>0.384615</td>\n",
       "      <td>0.454545</td>\n",
       "      <td>0.384615</td>\n",
       "    </tr>\n",
       "    <tr>\n",
       "      <th>news</th>\n",
       "      <td>18</td>\n",
       "      <td>13</td>\n",
       "      <td>9</td>\n",
       "      <td>5</td>\n",
       "      <td>4</td>\n",
       "      <td>0.384615</td>\n",
       "      <td>0.277778</td>\n",
       "      <td>0.444444</td>\n",
       "      <td>0.222222</td>\n",
       "    </tr>\n",
       "    <tr>\n",
       "      <th>funny</th>\n",
       "      <td>11</td>\n",
       "      <td>10</td>\n",
       "      <td>7</td>\n",
       "      <td>3</td>\n",
       "      <td>3</td>\n",
       "      <td>0.300000</td>\n",
       "      <td>0.272727</td>\n",
       "      <td>0.428571</td>\n",
       "      <td>0.272727</td>\n",
       "    </tr>\n",
       "    <tr>\n",
       "      <th>memes</th>\n",
       "      <td>16</td>\n",
       "      <td>18</td>\n",
       "      <td>8</td>\n",
       "      <td>4</td>\n",
       "      <td>3</td>\n",
       "      <td>0.222222</td>\n",
       "      <td>0.250000</td>\n",
       "      <td>0.375000</td>\n",
       "      <td>0.187500</td>\n",
       "    </tr>\n",
       "    <tr>\n",
       "      <th>movies</th>\n",
       "      <td>5</td>\n",
       "      <td>9</td>\n",
       "      <td>3</td>\n",
       "      <td>1</td>\n",
       "      <td>1</td>\n",
       "      <td>0.111111</td>\n",
       "      <td>0.200000</td>\n",
       "      <td>0.333333</td>\n",
       "      <td>0.200000</td>\n",
       "    </tr>\n",
       "    <tr>\n",
       "      <th>gaming</th>\n",
       "      <td>5</td>\n",
       "      <td>13</td>\n",
       "      <td>7</td>\n",
       "      <td>2</td>\n",
       "      <td>2</td>\n",
       "      <td>0.153846</td>\n",
       "      <td>0.400000</td>\n",
       "      <td>0.285714</td>\n",
       "      <td>0.400000</td>\n",
       "    </tr>\n",
       "  </tbody>\n",
       "</table>\n",
       "</div>"
      ],
      "text/plain": [
       "                   stepUp  hotPost  hotPost10k  stepUp&HotPost  \\\n",
       "coalesceSubreddit                                                \n",
       "worldnews              21       14           8               7   \n",
       "aww                    14       13           8               5   \n",
       "pics                    6       16          11               5   \n",
       "todayilearned          13       14          11               5   \n",
       "news                   18       13           9               5   \n",
       "funny                  11       10           7               3   \n",
       "memes                  16       18           8               4   \n",
       "movies                  5        9           3               1   \n",
       "gaming                  5       13           7               2   \n",
       "\n",
       "                   stepUp&HotPost10k  recall_hotPost  precision_hotPost  \\\n",
       "coalesceSubreddit                                                         \n",
       "worldnews                          5        0.500000           0.333333   \n",
       "aww                                4        0.384615           0.357143   \n",
       "pics                               5        0.312500           0.833333   \n",
       "todayilearned                      5        0.357143           0.384615   \n",
       "news                               4        0.384615           0.277778   \n",
       "funny                              3        0.300000           0.272727   \n",
       "memes                              3        0.222222           0.250000   \n",
       "movies                             1        0.111111           0.200000   \n",
       "gaming                             2        0.153846           0.400000   \n",
       "\n",
       "                   recall_hotPost10k  precision_hotPost10k  \n",
       "coalesceSubreddit                                           \n",
       "worldnews                   0.625000              0.238095  \n",
       "aww                         0.500000              0.285714  \n",
       "pics                        0.454545              0.833333  \n",
       "todayilearned               0.454545              0.384615  \n",
       "news                        0.444444              0.222222  \n",
       "funny                       0.428571              0.272727  \n",
       "memes                       0.375000              0.187500  \n",
       "movies                      0.333333              0.200000  \n",
       "gaming                      0.285714              0.400000  "
      ]
     },
     "execution_count": 95,
     "metadata": {},
     "output_type": "execute_result"
    }
   ],
   "source": [
    "metricsDf = mergedDf[['coalesceSubreddit', 'stepUp', 'hotPost', 'hotPost10k', 'stepUp&HotPost', 'stepUp&HotPost10k']].groupby('coalesceSubreddit').agg('sum')\n",
    "metricsDf['recall_hotPost'] = metricsDf['stepUp&HotPost']/metricsDf['hotPost']\n",
    "metricsDf['precision_hotPost'] = metricsDf['stepUp&HotPost']/metricsDf['stepUp']\n",
    "metricsDf['recall_hotPost10k'] = metricsDf['stepUp&HotPost10k']/metricsDf['hotPost10k']\n",
    "metricsDf['precision_hotPost10k'] = metricsDf['stepUp&HotPost10k']/metricsDf['stepUp']\n",
    "metricsDf = metricsDf.sort_values('recall_hotPost10k', ascending=False)\n",
    "metricsDf"
   ]
  },
  {
   "cell_type": "markdown",
   "metadata": {},
   "source": [
    "## Plot performance metrics"
   ]
  },
  {
   "cell_type": "code",
   "execution_count": 101,
   "metadata": {
    "ExecuteTime": {
     "end_time": "2023-05-12T19:38:41.828140Z",
     "start_time": "2023-05-12T19:38:41.255856Z"
    }
   },
   "outputs": [
    {
     "data": {
      "image/png": "[encoded data removed]",
      "text/plain": [
       "<Figure size 432x288 with 1 Axes>"
      ]
     },
     "metadata": {},
     "output_type": "display_data"
    }
   ],
   "source": [
    "import matplotlib.pyplot as plt\n",
    "import seaborn as sns\n",
    "\n",
    "meltedDf = metricsDf.reset_index(drop=False).melt(id_vars='coalesceSubreddit', value_vars=['recall_hotPost', 'precision_hotPost'])\n",
    "\n",
    "sns.set(style='white')\n",
    "sns.barplot(data=meltedDf, x='coalesceSubreddit', y='value', hue='variable')\n",
    "plt.xticks(rotation=45)\n",
    "plt.show()"
   ]
  },
  {
   "cell_type": "code",
   "execution_count": 103,
   "metadata": {
    "ExecuteTime": {
     "end_time": "2023-05-13T04:49:59.562857Z",
     "start_time": "2023-05-13T04:49:59.096747Z"
    }
   },
   "outputs": [
    {
     "data": {
      "image/png": "[encoded data removed]",
      "text/plain": [
       "<Figure size 432x288 with 1 Axes>"
      ]
     },
     "metadata": {},
     "output_type": "display_data"
    }
   ],
   "source": [
    "\n",
    "meltedDf = metricsDf.reset_index(drop=False).melt(id_vars='coalesceSubreddit', value_vars=['recall_hotPost10k', 'precision_hotPost10k'])\n",
    "\n",
    "sns.set(style='white')\n",
    "sns.barplot(data=meltedDf, x='coalesceSubreddit', y='value', hue='variable')\n",
    "plt.xticks(rotation=45)\n",
    "plt.xlabel('subreddit')\n",
    "plt.title('Precision and recall of a Hot Posts with >= 10k upvotes\\n2023-05-10 to 2023-05-12')\n",
    "plt.show()"
   ]
  },
  {
   "cell_type": "markdown",
   "metadata": {},
   "source": [
    "hotPost10k is basically \"did a post reach the top 3 on the subreddit and did it have a max score of at least 10k.\" This is more strict than how the current model (2023-05-12) trains which does not have the 10k limit. It can make the recall look better than \"hotPost\" because there are fewer targets to predict correctly.  Precisions can be lower in some cases because there are fewer true targets to match out of everything predicted to step up."
   ]
  },
  {
   "cell_type": "code",
   "execution_count": null,
   "metadata": {},
   "outputs": [],
   "source": []
  }
 ],
 "metadata": {
  "hide_input": false,
  "kernelspec": {
   "display_name": "py37",
   "language": "python",
   "name": "py37"
  },
  "language_info": {
   "codemirror_mode": {
    "name": "ipython",
    "version": 3
   },
   "file_extension": ".py",
   "mimetype": "text/x-python",
   "name": "python",
   "nbconvert_exporter": "python",
   "pygments_lexer": "ipython3",
   "version": "3.7.3"
  },
  "toc": {
   "base_numbering": 1,
   "nav_menu": {},
   "number_sections": true,
   "sideBar": true,
   "skip_h1_title": false,
   "title_cell": "Table of Contents",
   "title_sidebar": "Contents",
   "toc_cell": true,
   "toc_position": {
    "height": "428.667px",
    "left": "60px",
    "top": "196px",
    "width": "165px"
   },
   "toc_section_display": true,
   "toc_window_display": true
  }
 },
 "nbformat": 4,
 "nbformat_minor": 2
}
